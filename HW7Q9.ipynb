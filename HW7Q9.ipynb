{
 "cells": [
  {
   "cell_type": "code",
   "execution_count": null,
   "metadata": {
    "collapsed": true
   },
   "outputs": [],
   "source": [
    "from sklearn import datasets\n",
    "iris = datasets.load_iris()\n",
    "x = iris.data\n",
    "y = iris.target"
   ]
  },
  {
   "cell_type": "code",
   "execution_count": null,
   "metadata": {
    "scrolled": false
   },
   "outputs": [],
   "source": [
    "import numpy as np\n",
    "label = y[0:100];\n",
    "label[0:50] = -1;\n",
    "feature = np.delete(x,0,1);\n",
    "feature = np.delete(feature,1,1);\n",
    "feature = feature[0:100];\n",
    "tuple = zip(feature,label);\n",
    "tuple"
   ]
  },
  {
   "cell_type": "code",
   "execution_count": null,
   "metadata": {
    "collapsed": true
   },
   "outputs": [],
   "source": [
    "def getLabel(w,b,x):\n",
    "    ex = 0;\n",
    "    if(np.dot(w,x) + b >= 0):\n",
    "        ex = 1;\n",
    "    else:\n",
    "        ex = -1;\n",
    "    return ex;"
   ]
  },
  {
   "cell_type": "code",
   "execution_count": null,
   "metadata": {
    "collapsed": true
   },
   "outputs": [],
   "source": [
    "import random\n",
    "def iteration(tuple,w,b):\n",
    "    random.shuffle(tuple);\n",
    "    count = 0;\n",
    "    m = 0;\n",
    "    for i in range(100):\n",
    "        #if(tuple[i][1]*(np.dot(w,tuple[i][0]) + b) <= 0):\n",
    "        if(getLabel(w,b,tuple[i][0]) != tuple[i][1]):\n",
    "            w = w + np.dot(tuple[i][1],tuple[i][0]);\n",
    "            b = b + tuple[i][1];\n",
    "            count = count + 1;\n",
    "            m = 1;\n",
    "    return (w,b,m,count);"
   ]
  },
  {
   "cell_type": "code",
   "execution_count": null,
   "metadata": {
    "collapsed": true
   },
   "outputs": [],
   "source": [
    "update = [0] * 20;\n",
    "for i in range(20):\n",
    "    w = [0,0];\n",
    "    b = 0;\n",
    "    totalupdate = 0;\n",
    "    r = (w,b,1,0);\n",
    "    \n",
    "    while(r[2] != 0):\n",
    "        r = iteration(tuple,w,b);\n",
    "        w = r[0];\n",
    "        b = r[1];\n",
    "        totalupdate = totalupdate + r[3]\n",
    "    \n",
    "    update[i] = totalupdate\n",
    "update"
   ]
  },
  {
   "cell_type": "code",
   "execution_count": null,
   "metadata": {
    "collapsed": true
   },
   "outputs": [],
   "source": [
    "import matplotlib.pyplot as plt\n",
    "points1 = zip(*feature[0:50])\n",
    "points2 = zip(*feature[50:])\n",
    "plt.scatter(*points1,c='b')\n",
    "plt.scatter(*points2,c='g')\n",
    "x = np.linspace(1,5,100)\n",
    "y = (2.5/10.1)*x-1/10.1\n",
    "plt.plot(x,y)\n",
    "plt.show()"
   ]
  },
  {
   "cell_type": "code",
   "execution_count": null,
   "metadata": {
    "collapsed": true
   },
   "outputs": [],
   "source": [
    "time = range(20)\n",
    "time = [(x + 1) for x in time]\n",
    "print(update)\n",
    "plt.hist(update,bins=range(22))\n",
    "plt.show()"
   ]
  }
 ],
 "metadata": {
  "kernelspec": {
   "display_name": "Python 2",
   "language": "python",
   "name": "python2"
  },
  "language_info": {
   "codemirror_mode": {
    "name": "ipython",
    "version": 2
   },
   "file_extension": ".py",
   "mimetype": "text/x-python",
   "name": "python",
   "nbconvert_exporter": "python",
   "pygments_lexer": "ipython2",
   "version": "2.7.13"
  }
 },
 "nbformat": 4,
 "nbformat_minor": 2
}
