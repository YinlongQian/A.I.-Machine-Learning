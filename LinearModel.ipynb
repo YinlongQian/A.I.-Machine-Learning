{
 "cells": [
  {
   "cell_type": "code",
   "execution_count": 3,
   "metadata": {},
   "outputs": [],
   "source": [
    "import numpy as np\n",
    "with open('mystery.dat','r') as f:\n",
    "    rows=[map(float,L.strip().split(',')) for L in f]\n",
    "\n",
    "arr=np.array(rows)"
   ]
  },
  {
   "cell_type": "code",
   "execution_count": 30,
   "metadata": {},
   "outputs": [
    {
     "name": "stdout",
     "output_type": "stream",
     "text": [
      "4.03525\n"
     ]
    }
   ],
   "source": [
    "print(arr[100])"
   ]
  },
  {
   "cell_type": "code",
   "execution_count": 31,
   "metadata": {},
   "outputs": [
    {
     "name": "stdout",
     "output_type": "stream",
     "text": [
      "[-6.0756   4.03525 -3.57768 -1.01789  4.54025  4.32485  1.46065 -0.65873\n",
      "  2.24385  3.15486  0.2536  -2.52638 -6.21466  2.87399  2.03908 -0.0551\n",
      "  0.04424  2.13505  7.08312  7.15293  4.10183 -1.30958 -1.43414  4.83375\n",
      "  2.43255  0.12719 -1.70573 -4.64949 -5.8038  -5.82402 -1.02588  2.20337\n",
      " -1.09658 -0.157   -0.55284 -2.31413 -3.24908 -2.81591  2.41925 -7.58712\n",
      "  2.53188 -0.76009 -4.24372 -0.08925  0.31976 -2.06108 -2.73496 -3.0468\n",
      " -1.23683  2.21457 -0.37259  1.15625  3.64216  3.42295 -1.13228 -0.09385\n",
      "  2.93073 -9.03481  6.63379 -0.34708 -3.68159 -1.36779 -0.92313 -0.80801\n",
      " -1.2807  -3.43148  3.50318  1.54413 -2.80686 -1.39139 -3.55194  8.53266\n",
      "  3.2411  -2.83355 -1.63766  4.56515  0.91117  6.61456  0.86544 -0.25453\n",
      " -1.0074   1.31724 -1.24296 -2.08828 -1.70919  4.22729  0.56425 -3.5071\n",
      " -0.14411  4.69793 -4.58759 -5.2268   2.13258 -5.07066 -1.17496  4.73796\n",
      " -2.87495  4.22825 -4.60459 -2.31289 -1.24437]\n"
     ]
    }
   ],
   "source": [
    "label = arr[:,100]\n",
    "print(label)"
   ]
  },
  {
   "cell_type": "code",
   "execution_count": 57,
   "metadata": {},
   "outputs": [
    {
     "data": {
      "text/plain": [
       "Lasso(alpha=0.6, copy_X=True, fit_intercept=True, max_iter=1000,\n",
       "   normalize=False, positive=False, precompute=False, random_state=None,\n",
       "   selection='cyclic', tol=0.0001, warm_start=False)"
      ]
     },
     "execution_count": 57,
     "metadata": {},
     "output_type": "execute_result"
    }
   ],
   "source": [
    "from sklearn import linear_model\n",
    "clf = linear_model.Lasso(alpha=0.6)\n",
    "clf.fit(arr[:,0:100], label)"
   ]
  },
  {
   "cell_type": "code",
   "execution_count": 76,
   "metadata": {},
   "outputs": [
    {
     "name": "stdout",
     "output_type": "stream",
     "text": [
      "0.428457163597\n"
     ]
    }
   ],
   "source": [
    "print (clf.coef_[26])"
   ]
  },
  {
   "cell_type": "code",
   "execution_count": 47,
   "metadata": {},
   "outputs": [
    {
     "data": {
      "text/plain": [
       "LinearRegression(copy_X=True, fit_intercept=True, n_jobs=1, normalize=False)"
      ]
     },
     "execution_count": 47,
     "metadata": {},
     "output_type": "execute_result"
    }
   ],
   "source": [
    "from sklearn import linear_model\n",
    "clf = linear_model.LinearRegression()\n",
    "clf.fit(arr[:,0:100], label)"
   ]
  },
  {
   "cell_type": "code",
   "execution_count": 48,
   "metadata": {},
   "outputs": [
    {
     "name": "stdout",
     "output_type": "stream",
     "text": [
      "[  6.43856876e-01   2.22019693e+00   5.68381295e-01  -6.93482282e-01\n",
      "  -1.05537477e+00   8.00486088e-01   9.98340583e-01  -2.97327466e-02\n",
      "   4.88399998e-01   6.99989200e-01   2.86627325e+00  -1.11076524e+00\n",
      "   6.50650548e-01   3.83145795e-01  -1.27848885e+00  -8.40918954e-01\n",
      "   6.48675174e-01  -6.82603662e-01   4.35307133e-02   1.68092691e+00\n",
      "  -2.50086715e+00  -1.59350616e+00   8.37915206e-01  -2.14523394e+00\n",
      "  -5.98936753e-02  -7.75058910e-01   3.20445116e+00   2.19494830e-01\n",
      "   1.12473701e+00   9.77599223e-01  -1.80043290e+00  -4.11460158e-01\n",
      "  -6.20779664e-01  -2.07272927e+00   5.76809461e-01  -3.73095339e-01\n",
      "   9.14875388e-01  -2.08170748e-01   4.73493213e-02  -1.51790288e+00\n",
      "   1.05571037e+00   7.04278907e-01   3.84742754e-01   2.08726281e+00\n",
      "  -1.08034145e+00   5.51103809e-01  -8.57934255e-01   3.99790544e-01\n",
      "   4.48879113e-01  -1.82952649e+00  -6.97674814e-01   1.85946605e+00\n",
      "  -5.61909197e-01  -9.08837437e-01   1.07478074e+00   1.64983255e-01\n",
      "  -9.65172796e-01   3.34674761e+00   1.61489947e+00   7.94260585e-01\n",
      "  -4.80493090e-02  -6.37864364e-01   8.21011677e-02  -1.43031211e+00\n",
      "  -1.65262922e+00   7.67743829e-01  -4.25251614e-01   2.24787055e+00\n",
      "  -3.09089848e-01   2.45041918e-03  -2.02351028e+00   1.92235842e+00\n",
      "   9.28850343e-01   3.38853521e-01  -9.86919207e-04  -8.21680456e-01\n",
      "   6.08890123e-01   1.88884715e+00   1.02962728e+00   8.05093504e-01\n",
      "  -9.40654816e-01  -1.37872855e+00   1.46579040e+00   2.76442724e-01\n",
      "  -1.55968098e+00   1.43792210e+00   5.56291395e-01  -5.59830585e-01\n",
      "  -1.69140542e-01   8.68310559e-01   4.76765276e-01  -9.56913352e-01\n",
      "  -6.66867357e-01   6.01169944e-02  -8.63609450e-01  -1.28549414e+00\n",
      "  -1.11608491e-01  -5.90620616e-01   3.91259456e-01  -1.49364079e+00]\n"
     ]
    }
   ],
   "source": [
    "print (clf.coef_)"
   ]
  }
 ],
 "metadata": {
  "kernelspec": {
   "display_name": "Python 2",
   "language": "python",
   "name": "python2"
  },
  "language_info": {
   "codemirror_mode": {
    "name": "ipython",
    "version": 2
   },
   "file_extension": ".py",
   "mimetype": "text/x-python",
   "name": "python",
   "nbconvert_exporter": "python",
   "pygments_lexer": "ipython2",
   "version": "2.7.13"
  }
 },
 "nbformat": 4,
 "nbformat_minor": 2
}
