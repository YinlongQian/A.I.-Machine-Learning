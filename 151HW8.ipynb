{
 "cells": [
  {
   "cell_type": "code",
   "execution_count": 31,
   "metadata": {},
   "outputs": [
    {
     "data": {
      "text/plain": [
       "array([[ 1,  1,  1],\n",
       "       [ 2,  1,  1],\n",
       "       [ 3,  1,  1],\n",
       "       [ 4,  1,  1],\n",
       "       [ 5,  1,  1],\n",
       "       [ 6,  1,  1],\n",
       "       [ 7,  1,  1],\n",
       "       [ 8,  1,  1],\n",
       "       [ 9,  1,  1],\n",
       "       [10,  1,  1],\n",
       "       [ 1,  2,  1],\n",
       "       [ 2,  2,  1],\n",
       "       [ 3,  2,  1],\n",
       "       [ 4,  2,  1],\n",
       "       [ 5,  2,  1],\n",
       "       [ 6,  2,  1],\n",
       "       [ 7,  2,  1],\n",
       "       [ 8,  2,  1],\n",
       "       [ 9,  2,  1],\n",
       "       [10,  2,  1],\n",
       "       [ 1,  3,  1],\n",
       "       [ 2,  3,  1],\n",
       "       [ 3,  3,  1],\n",
       "       [ 4,  3,  1],\n",
       "       [ 5,  3,  1],\n",
       "       [ 6,  3,  1],\n",
       "       [ 7,  3,  1],\n",
       "       [ 8,  3,  1],\n",
       "       [ 9,  3,  1],\n",
       "       [10,  3,  1],\n",
       "       [ 1,  4,  1],\n",
       "       [ 2,  4,  1],\n",
       "       [ 3,  4,  1],\n",
       "       [ 1,  5,  1],\n",
       "       [ 2,  5,  1],\n",
       "       [ 3,  5,  1],\n",
       "       [ 1,  6,  1],\n",
       "       [ 2,  6,  1],\n",
       "       [ 3,  6,  1],\n",
       "       [ 1,  7,  1],\n",
       "       [ 2,  7,  1],\n",
       "       [ 3,  7,  1],\n",
       "       [ 1,  8,  1],\n",
       "       [ 2,  8,  1],\n",
       "       [ 3,  8,  1],\n",
       "       [ 1,  9,  1],\n",
       "       [ 2,  9,  1],\n",
       "       [ 3,  9,  1],\n",
       "       [ 1, 10,  1],\n",
       "       [ 2, 10,  1],\n",
       "       [ 3, 10,  1],\n",
       "       [ 6,  6, -1],\n",
       "       [ 6,  7, -1],\n",
       "       [ 6,  8, -1],\n",
       "       [ 6,  9, -1],\n",
       "       [ 6, 10, -1],\n",
       "       [ 7,  6, -1],\n",
       "       [ 7,  7, -1],\n",
       "       [ 7,  8, -1],\n",
       "       [ 7,  9, -1],\n",
       "       [ 7, 10, -1],\n",
       "       [ 8,  6, -1],\n",
       "       [ 8,  7, -1],\n",
       "       [ 8,  8, -1],\n",
       "       [ 8,  9, -1],\n",
       "       [ 8, 10, -1],\n",
       "       [ 9,  6, -1],\n",
       "       [ 9,  7, -1],\n",
       "       [ 9,  8, -1],\n",
       "       [ 9,  9, -1],\n",
       "       [ 9, 10, -1],\n",
       "       [10,  6, -1],\n",
       "       [10,  7, -1],\n",
       "       [10,  8, -1],\n",
       "       [10,  9, -1],\n",
       "       [10, 10, -1]])"
      ]
     },
     "execution_count": 31,
     "metadata": {},
     "output_type": "execute_result"
    }
   ],
   "source": [
    "import numpy as np\n",
    "with open('data1.txt','r') as f:\n",
    "    rows=[map(int,L.strip().split(' ')) for L in f]\n",
    "\n",
    "data1=np.array(rows)\n",
    "\n",
    "with open('data2.txt','r') as f:\n",
    "    rows=[map(int,L.strip().split(' ')) for L in f]\n",
    "\n",
    "data2=np.array(rows)\n",
    "data1"
   ]
  },
  {
   "cell_type": "code",
   "execution_count": 17,
   "metadata": {
    "collapsed": true
   },
   "outputs": [],
   "source": [
    "def kernelMtx(datapoint):\n",
    "    matrix = []\n",
    "    for i in range(len(datapoint)):\n",
    "        new = []\n",
    "        for j in range(len(datapoint)):\n",
    "            new.append((1 + np.dot(datapoint[i][:2],datapoint[j][:2])) ** 2)\n",
    "        matrix.append(new)\n",
    "    return matrix"
   ]
  },
  {
   "cell_type": "code",
   "execution_count": 18,
   "metadata": {},
   "outputs": [],
   "source": [
    "def checkNeedUpdate(datapoint,mtx,alpha,b,index):\n",
    "    sum = 0\n",
    "    for j in range(len(datapoint)):\n",
    "        sum = sum + alpha[j] * datapoint[j][2] * mtx[j][index]\n",
    "    sum = sum + b\n",
    "    return (sum*datapoint[index][2])"
   ]
  },
  {
   "cell_type": "code",
   "execution_count": 19,
   "metadata": {
    "collapsed": true
   },
   "outputs": [],
   "source": [
    "import random\n",
    "def iteration(datapoint,mtx,alpha,b):\n",
    "    random.shuffle(datapoint)\n",
    "    anyupdate = 0\n",
    "    for i in range(len(datapoint)):\n",
    "        product = checkNeedUpdate(datapoint,mtx,alpha,b,i)\n",
    "        if product <= 0:\n",
    "            alpha[i] = alpha[i] + 1\n",
    "            b = b + datapoint[i][2]\n",
    "            anyupdate = 1\n",
    "    return (alpha,b,anyupdate)"
   ]
  },
  {
   "cell_type": "code",
   "execution_count": 20,
   "metadata": {},
   "outputs": [
    {
     "name": "stdout",
     "output_type": "stream",
     "text": [
      "[1, 0, 0, 0, 0, 0, 0, 0, 0, 0, 0, 0, 0, 0, 0, 0, 0, 0, 0, 0, 0, 0, 0, 0, 0, 0, 0, 0, 0, 0, 0, 0, 0, 0, 0, 0, 0, 0, 0, 0, 0, 0, 0, 0, 0, 0, 0, 0, 0, 0, 0, 0, 0, 0, 0, 0, 0, 0, 0, 0, 0, 0, 0, 0, 0, 0, 0, 1, 1, 0, 0, 0, 0, 0, 0, 1]\n",
      "0\n"
     ]
    }
   ],
   "source": [
    "alpha = [0] * len(data1)\n",
    "b = 0\n",
    "r = (alpha,b,1)\n",
    "matrix = kernelMtx(data1)\n",
    "\n",
    "while(r[2] != 0):\n",
    "    r = iteration(data1,matrix,alpha,b)\n",
    "    alpha = r[0]\n",
    "    b = r[1]\n",
    "print(alpha)\n",
    "print(b)"
   ]
  },
  {
   "cell_type": "code",
   "execution_count": 28,
   "metadata": {
    "scrolled": true
   },
   "outputs": [
    {
     "name": "stdout",
     "output_type": "stream",
     "text": [
      "[15, 6, 83, 10, 26]\n"
     ]
    }
   ],
   "source": [
    "from operator import add\n",
    "w = [0,0,0,0,0]\n",
    "for i in range(len(alpha)):\n",
    "    li = [data1[i][0],data1[i][1],data1[i][0]**2,data1[i][1]**2,data1[i][0]*data1[i][1]]\n",
    "    li = [x*alpha[i]*data1[i][2] for x in li]\n",
    "    w = map(add,w,li)\n",
    "print(w)"
   ]
  },
  {
   "cell_type": "code",
   "execution_count": 34,
   "metadata": {
    "scrolled": true
   },
   "outputs": [
    {
     "data": {
      "image/png": "[encoded data removed]",
      "text/plain": [
       "<matplotlib.figure.Figure at 0x1186e8450>"
      ]
     },
     "metadata": {},
     "output_type": "display_data"
    }
   ],
   "source": [
    "import matplotlib.pyplot as plt\n",
    "points = data1[:,:2]\n",
    "points0 = zip(*points[0:51])\n",
    "points1 = zip(*points[51:])\n",
    "plt.scatter(*points0,c='b')\n",
    "plt.scatter(*points1,c='g')\n",
    "plt.show()"
   ]
  },
  {
   "cell_type": "code",
   "execution_count": 32,
   "metadata": {},
   "outputs": [
    {
     "data": {
      "text/plain": [
       "array([[ 1,  1,  1],\n",
       "       [ 2,  1,  1],\n",
       "       [ 3,  1,  1],\n",
       "       [ 4,  1,  1],\n",
       "       [ 5,  1,  1],\n",
       "       [ 6,  1,  1],\n",
       "       [ 7,  1,  1],\n",
       "       [ 8,  1,  1],\n",
       "       [ 9,  1,  1],\n",
       "       [10,  1,  1],\n",
       "       [ 1,  2,  1],\n",
       "       [ 2,  2,  1],\n",
       "       [ 3,  2,  1],\n",
       "       [ 4,  2,  1],\n",
       "       [ 5,  2,  1],\n",
       "       [ 6,  2,  1],\n",
       "       [ 7,  2,  1],\n",
       "       [ 8,  2,  1],\n",
       "       [ 9,  2,  1],\n",
       "       [10,  2,  1],\n",
       "       [ 1,  3,  1],\n",
       "       [ 2,  3,  1],\n",
       "       [ 3,  3,  1],\n",
       "       [ 4,  3,  1],\n",
       "       [ 5,  3,  1],\n",
       "       [ 6,  3,  1],\n",
       "       [ 7,  3,  1],\n",
       "       [ 8,  3,  1],\n",
       "       [ 9,  3,  1],\n",
       "       [10,  3,  1],\n",
       "       [ 1,  4,  1],\n",
       "       [ 2,  4,  1],\n",
       "       [ 3,  4,  1],\n",
       "       [ 1,  5,  1],\n",
       "       [ 2,  5,  1],\n",
       "       [ 3,  5,  1],\n",
       "       [ 1,  6,  1],\n",
       "       [ 2,  6,  1],\n",
       "       [ 3,  6,  1],\n",
       "       [ 1,  7,  1],\n",
       "       [ 2,  7,  1],\n",
       "       [ 3,  7,  1],\n",
       "       [ 1,  8,  1],\n",
       "       [ 2,  8,  1],\n",
       "       [ 3,  8,  1],\n",
       "       [ 1,  9,  1],\n",
       "       [ 2,  9,  1],\n",
       "       [ 3,  9,  1],\n",
       "       [ 1, 10,  1],\n",
       "       [ 2, 10,  1],\n",
       "       [ 3, 10,  1],\n",
       "       [ 6,  6, -1],\n",
       "       [ 6,  7, -1],\n",
       "       [ 6,  8, -1],\n",
       "       [ 6,  9, -1],\n",
       "       [ 6, 10, -1],\n",
       "       [ 7,  6, -1],\n",
       "       [ 7,  7, -1],\n",
       "       [ 7,  8, -1],\n",
       "       [ 7,  9, -1],\n",
       "       [ 7, 10, -1],\n",
       "       [ 8,  6, -1],\n",
       "       [ 8,  7, -1],\n",
       "       [ 8,  8, -1],\n",
       "       [ 8,  9, -1],\n",
       "       [ 8, 10, -1],\n",
       "       [ 9,  6, -1],\n",
       "       [ 9,  7, -1],\n",
       "       [ 9,  8, -1],\n",
       "       [ 9,  9, -1],\n",
       "       [ 9, 10, -1],\n",
       "       [10,  6, -1],\n",
       "       [10,  7, -1],\n",
       "       [10,  8, -1],\n",
       "       [10,  9, -1],\n",
       "       [10, 10, -1]])"
      ]
     },
     "execution_count": 32,
     "metadata": {},
     "output_type": "execute_result"
    }
   ],
   "source": [
    "data1"
   ]
  }
 ],
 "metadata": {
  "kernelspec": {
   "display_name": "Python 2",
   "language": "python",
   "name": "python2"
  },
  "language_info": {
   "codemirror_mode": {
    "name": "ipython",
    "version": 2
   },
   "file_extension": ".py",
   "mimetype": "text/x-python",
   "name": "python",
   "nbconvert_exporter": "python",
   "pygments_lexer": "ipython2",
   "version": "2.7.13"
  }
 },
 "nbformat": 4,
 "nbformat_minor": 2
}
