{
 "cells": [
  {
   "cell_type": "code",
   "execution_count": 118,
   "metadata": {
    "collapsed": true
   },
   "outputs": [],
   "source": [
    "import numpy as np\n",
    "with open('data0.txt','r') as f:\n",
    "    rows=[map(int,L.strip().split(' ')) for L in f]\n",
    "\n",
    "arr=np.array(rows)\n",
    "datapoint = np.array(arr[:,:2])\n",
    "label = np.array(arr[:,2])"
   ]
  },
  {
   "cell_type": "code",
   "execution_count": 126,
   "metadata": {},
   "outputs": [
    {
     "name": "stdout",
     "output_type": "stream",
     "text": [
      "[[ -3. -12.]\n",
      " [-30.  10.]\n",
      " [ 12. -21.]\n",
      " [  4.   7.]]\n",
      "[ 22.  -5.  -7. -30.]\n"
     ]
    }
   ],
   "source": [
    "from sklearn.linear_model import Perceptron\n",
    "pt=Perceptron()\n",
    "pt.fit(datapoint,label)\n",
    "print(pt.coef_)\n",
    "print(pt.intercept_)"
   ]
  },
  {
   "cell_type": "code",
   "execution_count": 111,
   "metadata": {
    "collapsed": true
   },
   "outputs": [],
   "source": [
    "def getPredictedLabel(w,b,x):\n",
    "    predictedlabel = 0\n",
    "    argmax = np.dot(w[0],x) + b[0]\n",
    "    for i in range(len(b)):\n",
    "        currargval = np.dot(w[i],x) + b[i]\n",
    "        if(currargval > argmax):\n",
    "            predictedlabel = i\n",
    "            argmax = currargval\n",
    "    return predictedlabel;"
   ]
  },
  {
   "cell_type": "code",
   "execution_count": 112,
   "metadata": {
    "collapsed": true
   },
   "outputs": [],
   "source": [
    "from operator import add,sub\n",
    "def chargeLabels(w,b,x,predicted,actual):\n",
    "    w[actual] = map(add,w[actual],x)\n",
    "    b[actual] = b[actual] + 1\n",
    "    w[predicted] = map(sub,w[predicted],x)\n",
    "    b[predicted] = b[predicted] - 1"
   ]
  },
  {
   "cell_type": "code",
   "execution_count": 113,
   "metadata": {
    "collapsed": true
   },
   "outputs": [],
   "source": [
    "import random\n",
    "def iteration(tuple,w,b):\n",
    "    random.shuffle(tuple)\n",
    "    anyupdate = 0\n",
    "    for i in range(len(tuple)):\n",
    "        predictlabel = getPredictedLabel(w,b,tuple[i][:2])\n",
    "        if(predictlabel != tuple[i][2]):\n",
    "            chargeLabels(w,b,tuple[i][:2],predictlabel,tuple[i][2])\n",
    "            anyupdate = 1\n",
    "    return (w,b,anyupdate)"
   ]
  },
  {
   "cell_type": "code",
   "execution_count": 114,
   "metadata": {},
   "outputs": [
    {
     "name": "stdout",
     "output_type": "stream",
     "text": [
      "0\n",
      "1\n",
      "2\n",
      "[[6, 0], [-11, 7], [3, -8], [2, 1]]\n",
      "[7, -1, -1, -5]\n"
     ]
    }
   ],
   "source": [
    "w = [[0,0],[0,0],[0,0],[0,0]]\n",
    "b = [0,0,0,0]\n",
    "r = (w,b,1)\n",
    "some = 0\n",
    "while(r[2] != 0):\n",
    "    print(some)\n",
    "    some = some + 1\n",
    "    r = iteration(arr,w,b)\n",
    "    w = r[0]\n",
    "    b = r[1]\n",
    "print(w)\n",
    "print(b)"
   ]
  },
  {
   "cell_type": "code",
   "execution_count": null,
   "metadata": {
    "collapsed": true
   },
   "outputs": [],
   "source": []
  },
  {
   "cell_type": "code",
   "execution_count": 134,
   "metadata": {},
   "outputs": [
    {
     "data": {
      "image/png": "[encoded data removed]",
      "text/plain": [
       "<matplotlib.figure.Figure at 0x1a12b09150>"
      ]
     },
     "metadata": {},
     "output_type": "display_data"
    }
   ],
   "source": [
    "import matplotlib.pyplot as plt\n",
    "points0 = zip(*datapoint[0:12])\n",
    "points1 = zip(*datapoint[12:27])\n",
    "points2 = zip(*datapoint[27:36])\n",
    "points3 = zip(*datapoint[36:])\n",
    "plt.scatter(*points0,c='b')\n",
    "plt.scatter(*points1,c='g')\n",
    "plt.scatter(*points2,c='r')\n",
    "plt.scatter(*points3,c='y')\n",
    "x = np.linspace(0,10,100)\n",
    "y = (27/22)*x+27/22\n",
    "plt.plot(x,y)\n",
    "y = (15/9)*x-29/9\n",
    "plt.plot(x,y)\n",
    "y = (-7/19)*x+52/19\n",
    "plt.plot(x,y)\n",
    "#y = (42/31)*x-2/31\n",
    "#plt.plot(x,y)\n",
    "#y = (8/28)*x+23/28\n",
    "#plt.plot(x,y)\n",
    "#x = np.linspace(0,2,100)\n",
    "#y = (34/3)*x-25/3\n",
    "#plt.plot(x,y)\n",
    "plt.show()"
   ]
  }
 ],
 "metadata": {
  "kernelspec": {
   "display_name": "Python 2",
   "language": "python",
   "name": "python2"
  },
  "language_info": {
   "codemirror_mode": {
    "name": "ipython",
    "version": 2
   },
   "file_extension": ".py",
   "mimetype": "text/x-python",
   "name": "python",
   "nbconvert_exporter": "python",
   "pygments_lexer": "ipython2",
   "version": "2.7.13"
  }
 },
 "nbformat": 4,
 "nbformat_minor": 2
}
