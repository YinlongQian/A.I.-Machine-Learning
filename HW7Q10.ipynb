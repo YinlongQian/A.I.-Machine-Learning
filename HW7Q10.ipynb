{
 "cells": [
  {
   "cell_type": "code",
   "execution_count": null,
   "metadata": {
    "collapsed": true
   },
   "outputs": [],
   "source": [
    "from sklearn import datasets\n",
    "iris = datasets.load_iris()\n",
    "x = iris.data\n",
    "y = iris.target"
   ]
  },
  {
   "cell_type": "code",
   "execution_count": null,
   "metadata": {
    "collapsed": true
   },
   "outputs": [],
   "source": [
    "import numpy as np\n",
    "label = y[50:];\n",
    "feature = np.delete(x,1,1);\n",
    "feature = np.delete(feature,2,1);\n",
    "feature = feature[50:];"
   ]
  },
  {
   "cell_type": "code",
   "execution_count": null,
   "metadata": {},
   "outputs": [],
   "source": [
    "import matplotlib.pyplot as plt\n",
    "points1 = zip(*feature[0:50])\n",
    "points2 = zip(*feature[50:])\n",
    "plt.scatter(*points1,c='b')\n",
    "plt.scatter(*points2,c='g')\n",
    "x = np.linspace(4,10,100)\n",
    "y = (2.34/8.22)*x+25.33/8.22\n",
    "plt.plot(x,y)\n",
    "plt.show()"
   ]
  },
  {
   "cell_type": "code",
   "execution_count": null,
   "metadata": {},
   "outputs": [],
   "source": [
    "from sklearn.svm import SVC\n",
    "num = 0;\n",
    "curr=0.00001;\n",
    "while num < 10:\n",
    "    clf = SVC(C=curr,kernel='linear');\n",
    "    clf.fit(feature,label);\n",
    "    print(len(clf.support_vectors_));\n",
    "    prediction = clf.predict(feature);\n",
    "    errorcount = 0;\n",
    "    for i in range(100):\n",
    "          if(prediction[i] != label[i]):\n",
    "              errorcount = errorcount + 1;\n",
    "    print(errorcount);\n",
    "    curr = curr * 10;\n",
    "    num = num + 1;"
   ]
  },
  {
   "cell_type": "code",
   "execution_count": null,
   "metadata": {},
   "outputs": [],
   "source": [
    "clf = SVC(C=1000,kernel='linear');\n",
    "clf.fit(feature,label);\n",
    "print(len(clf.support_vectors_));\n",
    "prediction = clf.predict(feature);\n",
    "errorcount = 0;\n",
    "for i in range(100):\n",
    "    if(prediction[i] != label[i]):\n",
    "        errorcount = errorcount + 1;\n",
    "print(errorcount);\n",
    "print(clf.coef_)\n",
    "print(clf.intercept_)"
   ]
  }
 ],
 "metadata": {
  "kernelspec": {
   "display_name": "Python 2",
   "language": "python",
   "name": "python2"
  },
  "language_info": {
   "codemirror_mode": {
    "name": "ipython",
    "version": 2
   },
   "file_extension": ".py",
   "mimetype": "text/x-python",
   "name": "python",
   "nbconvert_exporter": "python",
   "pygments_lexer": "ipython2",
   "version": "2.7.13"
  }
 },
 "nbformat": 4,
 "nbformat_minor": 2
}
